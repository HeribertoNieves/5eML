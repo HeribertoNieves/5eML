{
 "cells": [
  {
   "cell_type": "code",
   "execution_count": 21,
   "id": "c319d114-f99f-4add-b2bb-c4f1cbfef7e6",
   "metadata": {},
   "outputs": [],
   "source": [
    "import requests\n",
    "from bs4 import BeautifulSoup\n",
    "import pandas as pd\n",
    "import time"
   ]
  },
  {
   "cell_type": "code",
   "execution_count": 159,
   "id": "04d5feac-bc06-4167-9925-85989e7f2257",
   "metadata": {},
   "outputs": [],
   "source": [
    "# URL of the webpage containing the spell list\n",
    "base_url = 'https://www.dandwiki.com'\n",
    "spells_url = f'{base_url}/wiki/5e_SRD:Spells'\n",
    "\n",
    "# Send a GET request to the webpage\n",
    "response = requests.get(spells_url)\n",
    "response.raise_for_status() "
   ]
  },
  {
   "cell_type": "code",
   "execution_count": 160,
   "id": "ddda713f-7fe9-4678-a486-155cb1f3b13e",
   "metadata": {},
   "outputs": [],
   "source": [
    "soup = BeautifulSoup(response.content, 'html.parser')"
   ]
  },
  {
   "cell_type": "code",
   "execution_count": 173,
   "id": "735d2852-24f4-4a7d-a08e-53666c6371e4",
   "metadata": {},
   "outputs": [],
   "source": [
    "def get_spell_details(spell_url):\n",
    "    damage_types = ['piercing, bludgeoning, slashing, cold, fire, lightning, thunder, poison, acid, necrotic, radiant, force, psychic']\n",
    "    response = requests.get(base_url + spell_url)\n",
    "    response.raise_for_status()\n",
    "    soup = BeautifulSoup(response.content, 'html.parser')\n",
    "    \n",
    "    spell_details = {}\n",
    "    if soup.find('caption'):\n",
    "        spell_name = soup.find('caption').text.strip()\n",
    "        spell_details['Name'] = spell_name\n",
    "    \n",
    "        labels = soup.find('table', class_='d20').find('td').text.strip().split(' ')\n",
    "        if '(ritual)' in labels:\n",
    "            spell_details['Ritual'] = True\n",
    "        else:\n",
    "            spell_details['Ritual'] = False\n",
    "\n",
    "        if 'cantrip' in labels:\n",
    "            spell_details['Level'] = 'Cantrip'\n",
    "            spell_details['School'] = labels[0]\n",
    "        else:\n",
    "            spell_details['Level'] = labels[0][0]\n",
    "            spell_details['School'] = labels[1]\n",
    "            \n",
    "        spell_details_table = soup.find('table', class_='d20').find_all('tr')\n",
    "        for row in spell_details_table:\n",
    "            cells = row.find_all(['th', 'td'])\n",
    "            if len(cells) == 2:\n",
    "                key = cells[0].text.strip().rstrip(':')\n",
    "                value = cells[1].text.strip()\n",
    "                spell_details[key] = value\n",
    "        description_paragraphs = soup.find_all('p')\n",
    "        description = '\\n'.join([p.text.strip() for p in description_paragraphs if not p.find('a', title=\"Main Page\")])\n",
    "    \n",
    "    \n",
    "        spell_details['Description'] = description\n",
    "    \n",
    "        damage_occurrences = len(re.findall('damage', description))\n",
    "        init_index = 0\n",
    "        damage_type_list = []\n",
    "        for i in range(damage_occurrences):\n",
    "            index_of_damage = description[init_index:].find('damage')\n",
    "            if index_of_damage != -1:\n",
    "                last_space_before_damage = description.rfind(\" \", 0, index_of_damage-1)\n",
    "                damage_type = description[last_space_before_damage+1:index_of_damage-1]\n",
    "                if damage_type in damage_types:\n",
    "                    damage_type_list.append(damage_type)\n",
    "                init_index = index_of_damage\n",
    "        if damage_type_list:\n",
    "            spell_details['Damage Type'] = set(damage_type_list)\n",
    "        else:\n",
    "            spell_details['Damage Type'] = 'Non-damaging'\n",
    "            \n",
    "        index_of_attack = description.find('spell attack')\n",
    "        if index_of_attack != -1:\n",
    "            last_space_before_attack = description.rfind(\" \", 0, index_of_attack-1)\n",
    "            attack_type = description[last_space_before_attack+1:index_of_attack-1]\n",
    "            spell_details['Attack Type'] = attack_type\n",
    "        else:\n",
    "            spell_details['Attack Type'] = None\n",
    "        \n",
    "        index_of_save = description.find('saving throw')\n",
    "        if index_of_save != -1:\n",
    "            last_space_before_save = description.rfind(\" \", 0, index_of_save-1)\n",
    "            save_type = description[last_space_before_save+1:index_of_save-1]\n",
    "            spell_details['Saving Throw'] = save_type\n",
    "        else:\n",
    "            spell_details['Saving Throw'] = None\n",
    "    \n",
    "        \n",
    "        return spell_details"
   ]
  },
  {
   "cell_type": "code",
   "execution_count": 175,
   "id": "4557822d-21fb-466c-a9d9-9575b3d411a9",
   "metadata": {},
   "outputs": [
    {
     "ename": "AttributeError",
     "evalue": "'NoneType' object has no attribute 'keys'",
     "output_type": "error",
     "traceback": [
      "\u001b[1;31m---------------------------------------------------------------------------\u001b[0m",
      "\u001b[1;31mAttributeError\u001b[0m                            Traceback (most recent call last)",
      "Cell \u001b[1;32mIn[175], line 16\u001b[0m\n\u001b[0;32m     13\u001b[0m             time\u001b[38;5;241m.\u001b[39msleep(\u001b[38;5;241m0.5\u001b[39m) \u001b[38;5;66;03m# be polite to the server\u001b[39;00m\n\u001b[0;32m     15\u001b[0m \u001b[38;5;66;03m# Convert the list of dictionaries to a pandas DataFrame\u001b[39;00m\n\u001b[1;32m---> 16\u001b[0m spells_df \u001b[38;5;241m=\u001b[39m \u001b[43mpd\u001b[49m\u001b[38;5;241;43m.\u001b[39;49m\u001b[43mDataFrame\u001b[49m\u001b[43m(\u001b[49m\u001b[43mspells_list\u001b[49m\u001b[43m)\u001b[49m\n\u001b[0;32m     18\u001b[0m \u001b[38;5;66;03m# Save the DataFrame to a CSV file\u001b[39;00m\n\u001b[0;32m     19\u001b[0m spells_df\u001b[38;5;241m.\u001b[39mto_csv(\u001b[38;5;124m'\u001b[39m\u001b[38;5;124m5e_spells.csv\u001b[39m\u001b[38;5;124m'\u001b[39m, index\u001b[38;5;241m=\u001b[39m\u001b[38;5;28;01mFalse\u001b[39;00m)\n",
      "File \u001b[1;32m~\\Miniconda3\\envs\\cuda_env\\lib\\site-packages\\pandas\\core\\frame.py:782\u001b[0m, in \u001b[0;36mDataFrame.__init__\u001b[1;34m(self, data, index, columns, dtype, copy)\u001b[0m\n\u001b[0;32m    780\u001b[0m     \u001b[38;5;28;01mif\u001b[39;00m columns \u001b[38;5;129;01mis\u001b[39;00m \u001b[38;5;129;01mnot\u001b[39;00m \u001b[38;5;28;01mNone\u001b[39;00m:\n\u001b[0;32m    781\u001b[0m         columns \u001b[38;5;241m=\u001b[39m ensure_index(columns)\n\u001b[1;32m--> 782\u001b[0m     arrays, columns, index \u001b[38;5;241m=\u001b[39m \u001b[43mnested_data_to_arrays\u001b[49m\u001b[43m(\u001b[49m\n\u001b[0;32m    783\u001b[0m \u001b[43m        \u001b[49m\u001b[38;5;66;43;03m# error: Argument 3 to \"nested_data_to_arrays\" has incompatible\u001b[39;49;00m\n\u001b[0;32m    784\u001b[0m \u001b[43m        \u001b[49m\u001b[38;5;66;43;03m# type \"Optional[Collection[Any]]\"; expected \"Optional[Index]\"\u001b[39;49;00m\n\u001b[0;32m    785\u001b[0m \u001b[43m        \u001b[49m\u001b[43mdata\u001b[49m\u001b[43m,\u001b[49m\n\u001b[0;32m    786\u001b[0m \u001b[43m        \u001b[49m\u001b[43mcolumns\u001b[49m\u001b[43m,\u001b[49m\n\u001b[0;32m    787\u001b[0m \u001b[43m        \u001b[49m\u001b[43mindex\u001b[49m\u001b[43m,\u001b[49m\u001b[43m  \u001b[49m\u001b[38;5;66;43;03m# type: ignore[arg-type]\u001b[39;49;00m\n\u001b[0;32m    788\u001b[0m \u001b[43m        \u001b[49m\u001b[43mdtype\u001b[49m\u001b[43m,\u001b[49m\n\u001b[0;32m    789\u001b[0m \u001b[43m    \u001b[49m\u001b[43m)\u001b[49m\n\u001b[0;32m    790\u001b[0m     mgr \u001b[38;5;241m=\u001b[39m arrays_to_mgr(\n\u001b[0;32m    791\u001b[0m         arrays,\n\u001b[0;32m    792\u001b[0m         columns,\n\u001b[1;32m   (...)\u001b[0m\n\u001b[0;32m    795\u001b[0m         typ\u001b[38;5;241m=\u001b[39mmanager,\n\u001b[0;32m    796\u001b[0m     )\n\u001b[0;32m    797\u001b[0m \u001b[38;5;28;01melse\u001b[39;00m:\n",
      "File \u001b[1;32m~\\Miniconda3\\envs\\cuda_env\\lib\\site-packages\\pandas\\core\\internals\\construction.py:498\u001b[0m, in \u001b[0;36mnested_data_to_arrays\u001b[1;34m(data, columns, index, dtype)\u001b[0m\n\u001b[0;32m    495\u001b[0m \u001b[38;5;28;01mif\u001b[39;00m is_named_tuple(data[\u001b[38;5;241m0\u001b[39m]) \u001b[38;5;129;01mand\u001b[39;00m columns \u001b[38;5;129;01mis\u001b[39;00m \u001b[38;5;28;01mNone\u001b[39;00m:\n\u001b[0;32m    496\u001b[0m     columns \u001b[38;5;241m=\u001b[39m ensure_index(data[\u001b[38;5;241m0\u001b[39m]\u001b[38;5;241m.\u001b[39m_fields)\n\u001b[1;32m--> 498\u001b[0m arrays, columns \u001b[38;5;241m=\u001b[39m \u001b[43mto_arrays\u001b[49m\u001b[43m(\u001b[49m\u001b[43mdata\u001b[49m\u001b[43m,\u001b[49m\u001b[43m \u001b[49m\u001b[43mcolumns\u001b[49m\u001b[43m,\u001b[49m\u001b[43m \u001b[49m\u001b[43mdtype\u001b[49m\u001b[38;5;241;43m=\u001b[39;49m\u001b[43mdtype\u001b[49m\u001b[43m)\u001b[49m\n\u001b[0;32m    499\u001b[0m columns \u001b[38;5;241m=\u001b[39m ensure_index(columns)\n\u001b[0;32m    501\u001b[0m \u001b[38;5;28;01mif\u001b[39;00m index \u001b[38;5;129;01mis\u001b[39;00m \u001b[38;5;28;01mNone\u001b[39;00m:\n",
      "File \u001b[1;32m~\\Miniconda3\\envs\\cuda_env\\lib\\site-packages\\pandas\\core\\internals\\construction.py:832\u001b[0m, in \u001b[0;36mto_arrays\u001b[1;34m(data, columns, dtype)\u001b[0m\n\u001b[0;32m    830\u001b[0m     arr \u001b[38;5;241m=\u001b[39m _list_to_arrays(data)\n\u001b[0;32m    831\u001b[0m \u001b[38;5;28;01melif\u001b[39;00m \u001b[38;5;28misinstance\u001b[39m(data[\u001b[38;5;241m0\u001b[39m], abc\u001b[38;5;241m.\u001b[39mMapping):\n\u001b[1;32m--> 832\u001b[0m     arr, columns \u001b[38;5;241m=\u001b[39m \u001b[43m_list_of_dict_to_arrays\u001b[49m\u001b[43m(\u001b[49m\u001b[43mdata\u001b[49m\u001b[43m,\u001b[49m\u001b[43m \u001b[49m\u001b[43mcolumns\u001b[49m\u001b[43m)\u001b[49m\n\u001b[0;32m    833\u001b[0m \u001b[38;5;28;01melif\u001b[39;00m \u001b[38;5;28misinstance\u001b[39m(data[\u001b[38;5;241m0\u001b[39m], ABCSeries):\n\u001b[0;32m    834\u001b[0m     arr, columns \u001b[38;5;241m=\u001b[39m _list_of_series_to_arrays(data, columns)\n",
      "File \u001b[1;32m~\\Miniconda3\\envs\\cuda_env\\lib\\site-packages\\pandas\\core\\internals\\construction.py:912\u001b[0m, in \u001b[0;36m_list_of_dict_to_arrays\u001b[1;34m(data, columns)\u001b[0m\n\u001b[0;32m    910\u001b[0m     gen \u001b[38;5;241m=\u001b[39m (\u001b[38;5;28mlist\u001b[39m(x\u001b[38;5;241m.\u001b[39mkeys()) \u001b[38;5;28;01mfor\u001b[39;00m x \u001b[38;5;129;01min\u001b[39;00m data)\n\u001b[0;32m    911\u001b[0m     sort \u001b[38;5;241m=\u001b[39m \u001b[38;5;129;01mnot\u001b[39;00m \u001b[38;5;28many\u001b[39m(\u001b[38;5;28misinstance\u001b[39m(d, \u001b[38;5;28mdict\u001b[39m) \u001b[38;5;28;01mfor\u001b[39;00m d \u001b[38;5;129;01min\u001b[39;00m data)\n\u001b[1;32m--> 912\u001b[0m     pre_cols \u001b[38;5;241m=\u001b[39m \u001b[43mlib\u001b[49m\u001b[38;5;241;43m.\u001b[39;49m\u001b[43mfast_unique_multiple_list_gen\u001b[49m\u001b[43m(\u001b[49m\u001b[43mgen\u001b[49m\u001b[43m,\u001b[49m\u001b[43m \u001b[49m\u001b[43msort\u001b[49m\u001b[38;5;241;43m=\u001b[39;49m\u001b[43msort\u001b[49m\u001b[43m)\u001b[49m\n\u001b[0;32m    913\u001b[0m     columns \u001b[38;5;241m=\u001b[39m ensure_index(pre_cols)\n\u001b[0;32m    915\u001b[0m \u001b[38;5;66;03m# assure that they are of the base dict class and not of derived\u001b[39;00m\n\u001b[0;32m    916\u001b[0m \u001b[38;5;66;03m# classes\u001b[39;00m\n",
      "File \u001b[1;32m~\\Miniconda3\\envs\\cuda_env\\lib\\site-packages\\pandas\\_libs\\lib.pyx:374\u001b[0m, in \u001b[0;36mpandas._libs.lib.fast_unique_multiple_list_gen\u001b[1;34m()\u001b[0m\n",
      "File \u001b[1;32m~\\Miniconda3\\envs\\cuda_env\\lib\\site-packages\\pandas\\core\\internals\\construction.py:910\u001b[0m, in \u001b[0;36m<genexpr>\u001b[1;34m(.0)\u001b[0m\n\u001b[0;32m    890\u001b[0m \u001b[38;5;250m\u001b[39m\u001b[38;5;124;03m\"\"\"\u001b[39;00m\n\u001b[0;32m    891\u001b[0m \u001b[38;5;124;03mConvert list of dicts to numpy arrays\u001b[39;00m\n\u001b[0;32m    892\u001b[0m \n\u001b[1;32m   (...)\u001b[0m\n\u001b[0;32m    907\u001b[0m \u001b[38;5;124;03mcolumns : Index\u001b[39;00m\n\u001b[0;32m    908\u001b[0m \u001b[38;5;124;03m\"\"\"\u001b[39;00m\n\u001b[0;32m    909\u001b[0m \u001b[38;5;28;01mif\u001b[39;00m columns \u001b[38;5;129;01mis\u001b[39;00m \u001b[38;5;28;01mNone\u001b[39;00m:\n\u001b[1;32m--> 910\u001b[0m     gen \u001b[38;5;241m=\u001b[39m (\u001b[38;5;28mlist\u001b[39m(\u001b[43mx\u001b[49m\u001b[38;5;241;43m.\u001b[39;49m\u001b[43mkeys\u001b[49m()) \u001b[38;5;28;01mfor\u001b[39;00m x \u001b[38;5;129;01min\u001b[39;00m data)\n\u001b[0;32m    911\u001b[0m     sort \u001b[38;5;241m=\u001b[39m \u001b[38;5;129;01mnot\u001b[39;00m \u001b[38;5;28many\u001b[39m(\u001b[38;5;28misinstance\u001b[39m(d, \u001b[38;5;28mdict\u001b[39m) \u001b[38;5;28;01mfor\u001b[39;00m d \u001b[38;5;129;01min\u001b[39;00m data)\n\u001b[0;32m    912\u001b[0m     pre_cols \u001b[38;5;241m=\u001b[39m lib\u001b[38;5;241m.\u001b[39mfast_unique_multiple_list_gen(gen, sort\u001b[38;5;241m=\u001b[39msort)\n",
      "\u001b[1;31mAttributeError\u001b[0m: 'NoneType' object has no attribute 'keys'"
     ]
    }
   ],
   "source": [
    "spells_list = []\n",
    "a_tag_list = []\n",
    "ul_list = []\n",
    "for ul in soup.find_all('ul')[5:15]: # find all unordered lists # Need 5 to 14 which are the spells\n",
    "    ul_list.append (ul)\n",
    "    for li in ul.find_all('li'): # find all list items per unordered list\n",
    "        a_tag = li.find('a')\n",
    "        a_tag_list.append(a_tag)\n",
    "        if a_tag and 'href' in a_tag.attrs:\n",
    "            spell_url = a_tag['href'] # this gets the relative url attached to a_tag\n",
    "            spell_details = get_spell_details(spell_url)\n",
    "            spells_list.append(spell_details)\n",
    "            time.sleep(0.5) # be polite to the server\n",
    "\n",
    "spells_list_filtered = [entry for entry in spells_list if entry is not None]\n",
    "spells_df = pd.DataFrame(spells_list_filtered)\n",
    "\n",
    "# Save the DataFrame to a CSV file\n",
    "spells_df.to_csv('5e_spells.csv', index=False)\n",
    "# spells_df = pd.DataFrame(spells_list)\n",
    "#spells_df.to_csv('5e_spells.csv', index=False)"
   ]
  }
 ],
 "metadata": {
  "kernelspec": {
   "display_name": "Python 3 (ipykernel)",
   "language": "python",
   "name": "python3"
  },
  "language_info": {
   "codemirror_mode": {
    "name": "ipython",
    "version": 3
   },
   "file_extension": ".py",
   "mimetype": "text/x-python",
   "name": "python",
   "nbconvert_exporter": "python",
   "pygments_lexer": "ipython3",
   "version": "3.8.19"
  }
 },
 "nbformat": 4,
 "nbformat_minor": 5
}
